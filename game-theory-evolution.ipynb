{
 "cells": [
  {
   "cell_type": "code",
   "execution_count": 1,
   "id": "f9171cd7",
   "metadata": {
    "_cell_guid": "b1076dfc-b9ad-4769-8c92-a6c4dae69d19",
    "_uuid": "8f2839f25d086af736a60e9eeb907d3b93b6e0e5",
    "execution": {
     "iopub.execute_input": "2025-10-16T05:27:12.416208Z",
     "iopub.status.busy": "2025-10-16T05:27:12.415673Z",
     "iopub.status.idle": "2025-10-16T05:27:12.422735Z",
     "shell.execute_reply": "2025-10-16T05:27:12.421862Z"
    },
    "papermill": {
     "duration": 0.01906,
     "end_time": "2025-10-16T05:27:12.424247",
     "exception": false,
     "start_time": "2025-10-16T05:27:12.405187",
     "status": "completed"
    },
    "tags": []
   },
   "outputs": [],
   "source": [
    "# # This Python 3 environment comes with many helpful analytics libraries installed\n",
    "# # It is defined by the kaggle/python Docker image: https://github.com/kaggle/docker-python\n",
    "# # For example, here's several helpful packages to load\n",
    "\n",
    "# import numpy as np # linear algebra\n",
    "# import pandas as pd # data processing, CSV file I/O (e.g. pd.read_csv)\n",
    "\n",
    "# # Input data files are available in the read-only \"../input/\" directory\n",
    "# # For example, running this (by clicking run or pressing Shift+Enter) will list all files under the input directory\n",
    "\n",
    "# import os\n",
    "# for dirname, _, filenames in os.walk('/kaggle/input'):\n",
    "#     for filename in filenames:\n",
    "#         print(os.path.join(dirname, filename))\n",
    "\n",
    "# # You can write up to 20GB to the current directory (/kaggle/working/) that gets preserved as output when you create a version using \"Save & Run All\" \n",
    "# # You can also write temporary files to /kaggle/temp/, but they won't be saved outside of the current session"
   ]
  },
  {
   "cell_type": "markdown",
   "id": "178e264f",
   "metadata": {
    "papermill": {
     "duration": 0.004809,
     "end_time": "2025-10-16T05:27:12.435490",
     "exception": false,
     "start_time": "2025-10-16T05:27:12.430681",
     "status": "completed"
    },
    "tags": []
   },
   "source": [
    "Ref: https://chatgpt.com/g/g-p-68eeaa4162b48191a6ab8b31241aee84-evolution-of-trust-simulation/c/68ec0088-5e20-8328-9eb2-6609cd7e5720"
   ]
  },
  {
   "cell_type": "code",
   "execution_count": 2,
   "id": "7d35db68",
   "metadata": {
    "execution": {
     "iopub.execute_input": "2025-10-16T05:27:12.448170Z",
     "iopub.status.busy": "2025-10-16T05:27:12.446895Z",
     "iopub.status.idle": "2025-10-16T05:27:14.221611Z",
     "shell.execute_reply": "2025-10-16T05:27:14.220730Z"
    },
    "papermill": {
     "duration": 1.781326,
     "end_time": "2025-10-16T05:27:14.223228",
     "exception": false,
     "start_time": "2025-10-16T05:27:12.441902",
     "status": "completed"
    },
    "tags": []
   },
   "outputs": [],
   "source": [
    "import random\n",
    "import itertools\n",
    "import numpy as np\n",
    "import pandas as pd\n",
    "import matplotlib.pyplot as plt\n",
    "import random"
   ]
  },
  {
   "cell_type": "code",
   "execution_count": 3,
   "id": "91cc944d",
   "metadata": {
    "execution": {
     "iopub.execute_input": "2025-10-16T05:27:14.231360Z",
     "iopub.status.busy": "2025-10-16T05:27:14.230757Z",
     "iopub.status.idle": "2025-10-16T05:27:14.234408Z",
     "shell.execute_reply": "2025-10-16T05:27:14.233759Z"
    },
    "papermill": {
     "duration": 0.008907,
     "end_time": "2025-10-16T05:27:14.235661",
     "exception": false,
     "start_time": "2025-10-16T05:27:14.226754",
     "status": "completed"
    },
    "tags": []
   },
   "outputs": [],
   "source": [
    "# T>R>P>S and 2R>T+S\n",
    "# Typical example: T=5,R=3,P=1,S=0 (but keep it symbolic)."
   ]
  },
  {
   "cell_type": "code",
   "execution_count": 4,
   "id": "ab6943f4",
   "metadata": {
    "execution": {
     "iopub.execute_input": "2025-10-16T05:27:14.243061Z",
     "iopub.status.busy": "2025-10-16T05:27:14.242829Z",
     "iopub.status.idle": "2025-10-16T05:27:14.247398Z",
     "shell.execute_reply": "2025-10-16T05:27:14.246747Z"
    },
    "papermill": {
     "duration": 0.009626,
     "end_time": "2025-10-16T05:27:14.248680",
     "exception": false,
     "start_time": "2025-10-16T05:27:14.239054",
     "status": "completed"
    },
    "tags": []
   },
   "outputs": [],
   "source": [
    "# -----------------------------\n",
    "# PAYOFF MATRIX\n",
    "# -----------------------------\n",
    "# Payoffs for (player, opponent)\n",
    "# R = Reward (mutual cooperation)\n",
    "# T = Temptation (you defect, they cooperate)\n",
    "# P = Punishment (mutual defection)\n",
    "# S = Sucker (you cooperate, they defect)\n",
    "R, T, P, S = 3, 5, 1, 0\n",
    "PAYOFFS = {\n",
    "    ('C', 'C'): (R, R),\n",
    "    ('C', 'D'): (S, T),\n",
    "    ('D', 'C'): (T, S),\n",
    "    ('D', 'D'): (P, P)\n",
    "}"
   ]
  },
  {
   "cell_type": "code",
   "execution_count": 5,
   "id": "a6f0e8ca",
   "metadata": {
    "execution": {
     "iopub.execute_input": "2025-10-16T05:27:14.256263Z",
     "iopub.status.busy": "2025-10-16T05:27:14.255975Z",
     "iopub.status.idle": "2025-10-16T05:27:14.266600Z",
     "shell.execute_reply": "2025-10-16T05:27:14.265912Z"
    },
    "papermill": {
     "duration": 0.016227,
     "end_time": "2025-10-16T05:27:14.268130",
     "exception": false,
     "start_time": "2025-10-16T05:27:14.251903",
     "status": "completed"
    },
    "tags": []
   },
   "outputs": [],
   "source": [
    "# -----------------------------\n",
    "# STRATEGY DEFINITIONS\n",
    "# -----------------------------\n",
    "class Strategy:\n",
    "    def __init__(self, name):\n",
    "        self.name = name\n",
    "        self.reset()\n",
    "\n",
    "    def reset(self):\n",
    "        self.history = []\n",
    "\n",
    "    def move(self, opponent_history):\n",
    "        raise NotImplementedError\n",
    "\n",
    "\n",
    "class Cooperator(Strategy):\n",
    "    def __init__(self): super().__init__(\"Cooperator\")\n",
    "    def move(self, opponent_history): return 'C'\n",
    "\n",
    "\n",
    "class Cheater(Strategy):\n",
    "    def __init__(self): super().__init__(\"Cheater\")\n",
    "    def move(self, opponent_history): return 'D'\n",
    "\n",
    "\n",
    "class Copycat(Strategy):\n",
    "    def __init__(self): super().__init__(\"Copycat\")\n",
    "    def move(self, opponent_history):\n",
    "        return 'C' if not opponent_history else opponent_history[-1]\n",
    "\n",
    "\n",
    "class Grudger(Strategy):\n",
    "    def __init__(self):\n",
    "        super().__init__(\"Grudger\")\n",
    "        self.grudge = False\n",
    "    def reset(self):\n",
    "        super().reset(); self.grudge = False\n",
    "    def move(self, opponent_history):\n",
    "        if 'D' in opponent_history:\n",
    "            self.grudge = True\n",
    "        return 'D' if self.grudge else 'C'\n",
    "\n",
    "\n",
    "class Detective(Strategy):\n",
    "    def __init__(self):\n",
    "        super().__init__(\"Detective\")\n",
    "        self.probe_moves = ['D', 'C', 'C', 'D']\n",
    "    def reset(self):\n",
    "        super().reset(); self.phase = \"probe\"\n",
    "    def move(self, opponent_history):\n",
    "        if len(self.history) < 4:\n",
    "            return self.probe_moves[len(self.history)]\n",
    "        if 'D' not in opponent_history:\n",
    "            return 'D'\n",
    "        else:\n",
    "            return opponent_history[-1]\n",
    "\n",
    "\n",
    "class Copykitten(Strategy):\n",
    "    def __init__(self): super().__init__(\"Copykitten\")\n",
    "    def move(self, opponent_history):\n",
    "        if len(opponent_history) < 2:\n",
    "            return 'C'\n",
    "        if opponent_history[-1] == 'D' and opponent_history[-2] == 'D':\n",
    "            return 'D'\n",
    "        return 'C'"
   ]
  },
  {
   "cell_type": "code",
   "execution_count": 6,
   "id": "68d509da",
   "metadata": {
    "execution": {
     "iopub.execute_input": "2025-10-16T05:27:14.275854Z",
     "iopub.status.busy": "2025-10-16T05:27:14.275614Z",
     "iopub.status.idle": "2025-10-16T05:27:14.282711Z",
     "shell.execute_reply": "2025-10-16T05:27:14.281990Z"
    },
    "papermill": {
     "duration": 0.01263,
     "end_time": "2025-10-16T05:27:14.284263",
     "exception": false,
     "start_time": "2025-10-16T05:27:14.271633",
     "status": "completed"
    },
    "tags": []
   },
   "outputs": [],
   "source": [
    "# -----------------------------\n",
    "# GAME MECHANICS\n",
    "# -----------------------------\n",
    "def play_round(p1, p2, noise=0.0):\n",
    "    m1 = p1.move(p2.history)\n",
    "    m2 = p2.move(p1.history)\n",
    "\n",
    "    # Noise: flip action with small prob\n",
    "    if random.random() < noise: m1 = 'D' if m1 == 'C' else 'C'\n",
    "    if random.random() < noise: m2 = 'D' if m2 == 'C' else 'C'\n",
    "\n",
    "    p1.history.append(m1)\n",
    "    p2.history.append(m2)\n",
    "\n",
    "    return PAYOFFS[(m1, m2)]\n",
    "\n",
    "\n",
    "def play_match(p1, p2, rounds=50, noise=0.0):\n",
    "    p1.reset(); p2.reset()\n",
    "    total1 = total2 = 0\n",
    "    for _ in range(rounds):\n",
    "        pay1, pay2 = play_round(p1, p2, noise)\n",
    "        total1 += pay1\n",
    "        total2 += pay2\n",
    "    return total1 / rounds, total2 / rounds\n",
    "\n",
    "\n",
    "def tournament(strategies, rounds=50, noise=0.0):\n",
    "    n = len(strategies)\n",
    "    payoff_matrix = np.zeros((n, n))\n",
    "    for i, s1 in enumerate(strategies):\n",
    "        for j, s2 in enumerate(strategies):\n",
    "            avg1, avg2 = play_match(s1, s2, rounds, noise)\n",
    "            payoff_matrix[i, j] = avg1\n",
    "    return payoff_matrix"
   ]
  },
  {
   "cell_type": "code",
   "execution_count": null,
   "id": "1ffe1f20",
   "metadata": {
    "papermill": {
     "duration": 0.003129,
     "end_time": "2025-10-16T05:27:14.290862",
     "exception": false,
     "start_time": "2025-10-16T05:27:14.287733",
     "status": "completed"
    },
    "tags": []
   },
   "outputs": [],
   "source": []
  },
  {
   "cell_type": "code",
   "execution_count": 7,
   "id": "c9ce4a4e",
   "metadata": {
    "execution": {
     "iopub.execute_input": "2025-10-16T05:27:14.298573Z",
     "iopub.status.busy": "2025-10-16T05:27:14.298282Z",
     "iopub.status.idle": "2025-10-16T05:27:14.304491Z",
     "shell.execute_reply": "2025-10-16T05:27:14.303703Z"
    },
    "papermill": {
     "duration": 0.01152,
     "end_time": "2025-10-16T05:27:14.305745",
     "exception": false,
     "start_time": "2025-10-16T05:27:14.294225",
     "status": "completed"
    },
    "tags": []
   },
   "outputs": [],
   "source": [
    "# -----------------------------\n",
    "# EVOLUTIONARY DYNAMICS\n",
    "# -----------------------------\n",
    "\n",
    "def evolve(strategies, generations=50, noise=0.05, rounds=50, initial_freq=None):\n",
    "    names = [s.name for s in strategies]\n",
    "    n = len(strategies)\n",
    "\n",
    "    # Initialize frequencies\n",
    "    if initial_freq is None:\n",
    "        freqs = np.ones(n) / n\n",
    "    else:\n",
    "        freqs = np.array(initial_freq) / sum(initial_freq)\n",
    "\n",
    "    history = [freqs.copy()]\n",
    "\n",
    "    for g in range(generations):\n",
    "        payoff_matrix = tournament(strategies, rounds, noise)\n",
    "        avg_payoffs = payoff_matrix.dot(freqs)\n",
    "        mean_fitness = np.dot(freqs, avg_payoffs)\n",
    "\n",
    "        # Replicator equation\n",
    "        freqs = freqs * (avg_payoffs / mean_fitness)\n",
    "        freqs /= freqs.sum()  # normalize to sum=1\n",
    "        history.append(freqs.copy())\n",
    "\n",
    "    return np.array(history), names\n",
    "\n"
   ]
  },
  {
   "cell_type": "markdown",
   "id": "992fb760",
   "metadata": {
    "papermill": {
     "duration": 0.002958,
     "end_time": "2025-10-16T05:27:14.312106",
     "exception": false,
     "start_time": "2025-10-16T05:27:14.309148",
     "status": "completed"
    },
    "tags": []
   },
   "source": [
    "Typical Behavior\n",
    "- If noise = 0, Copycat often dominates (perfect reciprocity).\n",
    "- With small noise (≈ 0.05), Copykitten often wins — it’s forgiving.\n",
    "- If noise is high or discounting matters less, Grudger and Cheater may reappear."
   ]
  },
  {
   "cell_type": "markdown",
   "id": "20fac24a",
   "metadata": {
    "papermill": {
     "duration": 0.002817,
     "end_time": "2025-10-16T05:27:14.318103",
     "exception": false,
     "start_time": "2025-10-16T05:27:14.315286",
     "status": "completed"
    },
    "tags": []
   },
   "source": [
    "# Run Simulation"
   ]
  },
  {
   "cell_type": "markdown",
   "id": "ae4ebc73",
   "metadata": {
    "papermill": {
     "duration": 0.002829,
     "end_time": "2025-10-16T05:27:14.323964",
     "exception": false,
     "start_time": "2025-10-16T05:27:14.321135",
     "status": "completed"
    },
    "tags": []
   },
   "source": [
    "## noise=0"
   ]
  },
  {
   "cell_type": "code",
   "execution_count": 8,
   "id": "dc270c49",
   "metadata": {
    "execution": {
     "iopub.execute_input": "2025-10-16T05:27:14.332152Z",
     "iopub.status.busy": "2025-10-16T05:27:14.331345Z",
     "iopub.status.idle": "2025-10-16T05:27:14.656459Z",
     "shell.execute_reply": "2025-10-16T05:27:14.655681Z"
    },
    "papermill": {
     "duration": 0.330906,
     "end_time": "2025-10-16T05:27:14.658044",
     "exception": false,
     "start_time": "2025-10-16T05:27:14.327138",
     "status": "completed"
    },
    "tags": []
   },
   "outputs": [
    {
     "data": {
      "image/png": "[encoded data removed]",
      "text/plain": [
       "<Figure size 1000x600 with 1 Axes>"
      ]
     },
     "metadata": {},
     "output_type": "display_data"
    }
   ],
   "source": [
    "# -----------------------------\n",
    "# RUN THE EVOLUTION SIMULATION\n",
    "# -----------------------------\n",
    "if __name__ == \"__main__\":\n",
    "    strategies = [\n",
    "        Cooperator(),\n",
    "        Cheater(),\n",
    "        # Copycat(),\n",
    "        # Grudger(),\n",
    "        # Detective(),\n",
    "        # Copykitten()\n",
    "    ]\n",
    "\n",
    "    history, names = evolve(\n",
    "        strategies,\n",
    "        generations=100,\n",
    "        noise=0,\n",
    "        rounds=100\n",
    "    )\n",
    "\n",
    "    # Plot population over time\n",
    "    plt.figure(figsize=(10,6))\n",
    "    for i, name in enumerate(names):\n",
    "        plt.plot(history[:, i], label=name)\n",
    "    # plt.title(\"Evolution of Trust — Replicator Dynamics\")\n",
    "    plt.title(\"Evolution of Trust — Cooperator vs Cheater\")\n",
    "    plt.xlabel(\"Generation\")\n",
    "    plt.ylabel(\"Population Frequency\")\n",
    "    plt.legend()\n",
    "    plt.grid(True)\n",
    "    plt.show()"
   ]
  },
  {
   "cell_type": "code",
   "execution_count": null,
   "id": "177e52d2",
   "metadata": {
    "papermill": {
     "duration": 0.003579,
     "end_time": "2025-10-16T05:27:14.665714",
     "exception": false,
     "start_time": "2025-10-16T05:27:14.662135",
     "status": "completed"
    },
    "tags": []
   },
   "outputs": [],
   "source": []
  },
  {
   "cell_type": "markdown",
   "id": "b808196c",
   "metadata": {
    "papermill": {
     "duration": 0.003723,
     "end_time": "2025-10-16T05:27:14.673523",
     "exception": false,
     "start_time": "2025-10-16T05:27:14.669800",
     "status": "completed"
    },
    "tags": []
   },
   "source": [
    "##  noise=0.05"
   ]
  },
  {
   "cell_type": "code",
   "execution_count": 9,
   "id": "53c7b5dc",
   "metadata": {
    "execution": {
     "iopub.execute_input": "2025-10-16T05:27:14.682602Z",
     "iopub.status.busy": "2025-10-16T05:27:14.682286Z",
     "iopub.status.idle": "2025-10-16T05:27:14.913744Z",
     "shell.execute_reply": "2025-10-16T05:27:14.912725Z"
    },
    "papermill": {
     "duration": 0.237771,
     "end_time": "2025-10-16T05:27:14.915256",
     "exception": false,
     "start_time": "2025-10-16T05:27:14.677485",
     "status": "completed"
    },
    "tags": []
   },
   "outputs": [
    {
     "data": {
      "image/png": "[encoded data removed]",
      "text/plain": [
       "<Figure size 1000x600 with 1 Axes>"
      ]
     },
     "metadata": {},
     "output_type": "display_data"
    }
   ],
   "source": [
    "# -----------------------------\n",
    "# RUN THE EVOLUTION SIMULATION\n",
    "# -----------------------------\n",
    "if __name__ == \"__main__\":\n",
    "    strategies = [\n",
    "        Cooperator(),\n",
    "        Cheater(),\n",
    "        # Copycat(),\n",
    "        # Grudger(),\n",
    "        # Detective(),\n",
    "        # Copykitten()\n",
    "    ]\n",
    "\n",
    "    history, names = evolve(\n",
    "        strategies,\n",
    "        generations=100,\n",
    "        noise=0.05,\n",
    "        rounds=100\n",
    "    )\n",
    "\n",
    "    # Plot population over time\n",
    "    plt.figure(figsize=(10,6))\n",
    "    for i, name in enumerate(names):\n",
    "        plt.plot(history[:, i], label=name)\n",
    "    plt.title(\"Evolution of Trust — Replicator Dynamics\")\n",
    "    plt.xlabel(\"Generation\")\n",
    "    plt.ylabel(\"Population Frequency\")\n",
    "    plt.legend()\n",
    "    plt.grid(True)\n",
    "    plt.show()"
   ]
  },
  {
   "cell_type": "code",
   "execution_count": null,
   "id": "1d53c8bb",
   "metadata": {
    "papermill": {
     "duration": 0.004184,
     "end_time": "2025-10-16T05:27:14.924310",
     "exception": false,
     "start_time": "2025-10-16T05:27:14.920126",
     "status": "completed"
    },
    "tags": []
   },
   "outputs": [],
   "source": []
  },
  {
   "cell_type": "markdown",
   "id": "aec55b23",
   "metadata": {
    "papermill": {
     "duration": 0.004034,
     "end_time": "2025-10-16T05:27:14.932699",
     "exception": false,
     "start_time": "2025-10-16T05:27:14.928665",
     "status": "completed"
    },
    "tags": []
   },
   "source": [
    "## noise=0.10"
   ]
  },
  {
   "cell_type": "code",
   "execution_count": 10,
   "id": "a987dea8",
   "metadata": {
    "execution": {
     "iopub.execute_input": "2025-10-16T05:27:14.942565Z",
     "iopub.status.busy": "2025-10-16T05:27:14.942248Z",
     "iopub.status.idle": "2025-10-16T05:27:15.166581Z",
     "shell.execute_reply": "2025-10-16T05:27:15.165705Z"
    },
    "papermill": {
     "duration": 0.231177,
     "end_time": "2025-10-16T05:27:15.168171",
     "exception": false,
     "start_time": "2025-10-16T05:27:14.936994",
     "status": "completed"
    },
    "tags": []
   },
   "outputs": [
    {
     "data": {
      "image/png": "[encoded data removed]",
      "text/plain": [
       "<Figure size 1000x600 with 1 Axes>"
      ]
     },
     "metadata": {},
     "output_type": "display_data"
    }
   ],
   "source": [
    "# -----------------------------\n",
    "# RUN THE EVOLUTION SIMULATION\n",
    "# -----------------------------\n",
    "if __name__ == \"__main__\":\n",
    "    strategies = [\n",
    "        Cooperator(),\n",
    "        Cheater(),\n",
    "        # Copycat(),\n",
    "        # Grudger(),\n",
    "        # Detective(),\n",
    "        # Copykitten()\n",
    "    ]\n",
    "\n",
    "    history, names = evolve(\n",
    "        strategies,\n",
    "        generations=100,\n",
    "        noise=0.20,\n",
    "        rounds=100\n",
    "    )\n",
    "\n",
    "    # Plot population over time\n",
    "    plt.figure(figsize=(10,6))\n",
    "    for i, name in enumerate(names):\n",
    "        plt.plot(history[:, i], label=name)\n",
    "    plt.title(\"Evolution of Trust — Replicator Dynamics\")\n",
    "    plt.xlabel(\"Generation\")\n",
    "    plt.ylabel(\"Population Frequency\")\n",
    "    plt.legend()\n",
    "    plt.grid(True)\n",
    "    plt.show()"
   ]
  }
 ],
 "metadata": {
  "kaggle": {
   "accelerator": "none",
   "dataSources": [],
   "dockerImageVersionId": 31153,
   "isGpuEnabled": false,
   "isInternetEnabled": true,
   "language": "python",
   "sourceType": "notebook"
  },
  "kernelspec": {
   "display_name": "Python 3",
   "language": "python",
   "name": "python3"
  },
  "language_info": {
   "codemirror_mode": {
    "name": "ipython",
    "version": 3
   },
   "file_extension": ".py",
   "mimetype": "text/x-python",
   "name": "python",
   "nbconvert_exporter": "python",
   "pygments_lexer": "ipython3",
   "version": "3.11.13"
  },
  "papermill": {
   "default_parameters": {},
   "duration": 7.593828,
   "end_time": "2025-10-16T05:27:15.692590",
   "environment_variables": {},
   "exception": null,
   "input_path": "__notebook__.ipynb",
   "output_path": "__notebook__.ipynb",
   "parameters": {},
   "start_time": "2025-10-16T05:27:08.098762",
   "version": "2.6.0"
  }
 },
 "nbformat": 4,
 "nbformat_minor": 5
}
