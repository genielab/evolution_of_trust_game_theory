{
 "cells": [
  {
   "cell_type": "code",
   "execution_count": 1,
   "id": "46919c4a",
   "metadata": {
    "_cell_guid": "b1076dfc-b9ad-4769-8c92-a6c4dae69d19",
    "_uuid": "8f2839f25d086af736a60e9eeb907d3b93b6e0e5",
    "execution": {
     "iopub.execute_input": "2025-10-16T04:41:10.143655Z",
     "iopub.status.busy": "2025-10-16T04:41:10.143311Z",
     "iopub.status.idle": "2025-10-16T04:41:10.148615Z",
     "shell.execute_reply": "2025-10-16T04:41:10.147893Z"
    },
    "papermill": {
     "duration": 0.011675,
     "end_time": "2025-10-16T04:41:10.150308",
     "exception": false,
     "start_time": "2025-10-16T04:41:10.138633",
     "status": "completed"
    },
    "tags": []
   },
   "outputs": [],
   "source": [
    "# # This Python 3 environment comes with many helpful analytics libraries installed\n",
    "# # It is defined by the kaggle/python Docker image: https://github.com/kaggle/docker-python\n",
    "# # For example, here's several helpful packages to load\n",
    "\n",
    "# import numpy as np # linear algebra\n",
    "# import pandas as pd # data processing, CSV file I/O (e.g. pd.read_csv)\n",
    "\n",
    "# # Input data files are available in the read-only \"../input/\" directory\n",
    "# # For example, running this (by clicking run or pressing Shift+Enter) will list all files under the input directory\n",
    "\n",
    "# import os\n",
    "# for dirname, _, filenames in os.walk('/kaggle/input'):\n",
    "#     for filename in filenames:\n",
    "#         print(os.path.join(dirname, filename))\n",
    "\n",
    "# # You can write up to 20GB to the current directory (/kaggle/working/) that gets preserved as output when you create a version using \"Save & Run All\" \n",
    "# # You can also write temporary files to /kaggle/temp/, but they won't be saved outside of the current session"
   ]
  },
  {
   "cell_type": "code",
   "execution_count": 2,
   "id": "b1fb1e8d",
   "metadata": {
    "execution": {
     "iopub.execute_input": "2025-10-16T04:41:10.157158Z",
     "iopub.status.busy": "2025-10-16T04:41:10.156790Z",
     "iopub.status.idle": "2025-10-16T04:41:12.024492Z",
     "shell.execute_reply": "2025-10-16T04:41:12.023655Z"
    },
    "papermill": {
     "duration": 1.872852,
     "end_time": "2025-10-16T04:41:12.026154",
     "exception": false,
     "start_time": "2025-10-16T04:41:10.153302",
     "status": "completed"
    },
    "tags": []
   },
   "outputs": [],
   "source": [
    "import random\n",
    "import itertools\n",
    "import numpy as np\n",
    "import pandas as pd\n",
    "import random"
   ]
  },
  {
   "cell_type": "code",
   "execution_count": 3,
   "id": "408f094b",
   "metadata": {
    "execution": {
     "iopub.execute_input": "2025-10-16T04:41:12.032571Z",
     "iopub.status.busy": "2025-10-16T04:41:12.032128Z",
     "iopub.status.idle": "2025-10-16T04:41:12.036186Z",
     "shell.execute_reply": "2025-10-16T04:41:12.035467Z"
    },
    "papermill": {
     "duration": 0.008736,
     "end_time": "2025-10-16T04:41:12.037557",
     "exception": false,
     "start_time": "2025-10-16T04:41:12.028821",
     "status": "completed"
    },
    "tags": []
   },
   "outputs": [],
   "source": [
    "# T>R>P>S and 2R>T+S\n",
    "# Typical example: T=5,R=3,P=1,S=0 (but keep it symbolic)."
   ]
  },
  {
   "cell_type": "code",
   "execution_count": 4,
   "id": "8a0740e3",
   "metadata": {
    "execution": {
     "iopub.execute_input": "2025-10-16T04:41:12.044492Z",
     "iopub.status.busy": "2025-10-16T04:41:12.043672Z",
     "iopub.status.idle": "2025-10-16T04:41:12.048829Z",
     "shell.execute_reply": "2025-10-16T04:41:12.047959Z"
    },
    "papermill": {
     "duration": 0.010036,
     "end_time": "2025-10-16T04:41:12.050265",
     "exception": false,
     "start_time": "2025-10-16T04:41:12.040229",
     "status": "completed"
    },
    "tags": []
   },
   "outputs": [],
   "source": [
    "# -----------------------------\n",
    "# PAYOFF MATRIX\n",
    "# -----------------------------\n",
    "# Payoffs for (player, opponent)\n",
    "# R = Reward (mutual cooperation)\n",
    "# T = Temptation (you defect, they cooperate)\n",
    "# P = Punishment (mutual defection)\n",
    "# S = Sucker (you cooperate, they defect)\n",
    "R, T, P, S = 3, 5, 1, 0\n",
    "\n",
    "PAYOFFS = {\n",
    "    ('C', 'C'): (R, R),\n",
    "    ('C', 'D'): (S, T),\n",
    "    ('D', 'C'): (T, S),\n",
    "    ('D', 'D'): (P, P)\n",
    "}"
   ]
  },
  {
   "cell_type": "code",
   "execution_count": 5,
   "id": "218cd575",
   "metadata": {
    "execution": {
     "iopub.execute_input": "2025-10-16T04:41:12.056899Z",
     "iopub.status.busy": "2025-10-16T04:41:12.056551Z",
     "iopub.status.idle": "2025-10-16T04:41:12.068531Z",
     "shell.execute_reply": "2025-10-16T04:41:12.067450Z"
    },
    "papermill": {
     "duration": 0.017334,
     "end_time": "2025-10-16T04:41:12.070296",
     "exception": false,
     "start_time": "2025-10-16T04:41:12.052962",
     "status": "completed"
    },
    "tags": []
   },
   "outputs": [],
   "source": [
    "# -----------------------------\n",
    "# BASE STRATEGY CLASS\n",
    "# -----------------------------\n",
    "class Strategy:\n",
    "    def __init__(self, name):\n",
    "        self.name = name\n",
    "        self.reset()\n",
    "\n",
    "    def reset(self):\n",
    "        self.history = []\n",
    "\n",
    "    def move(self, opponent_history):\n",
    "        \"\"\"Override this in each strategy.\"\"\"\n",
    "        raise NotImplementedError\n",
    "\n",
    "\n",
    "# -----------------------------\n",
    "# STRATEGY DEFINITIONS\n",
    "# -----------------------------\n",
    "\n",
    "class Cooperator(Strategy):\n",
    "    def __init__(self):\n",
    "        super().__init__(\"Cooperator\")\n",
    "\n",
    "    def move(self, opponent_history):\n",
    "        return 'C'\n",
    "\n",
    "\n",
    "class Cheater(Strategy):\n",
    "    def __init__(self):\n",
    "        super().__init__(\"Cheater\")\n",
    "\n",
    "    def move(self, opponent_history):\n",
    "        return 'D'\n",
    "\n",
    "\n",
    "class Copycat(Strategy):\n",
    "    def __init__(self):\n",
    "        super().__init__(\"Copycat\")\n",
    "\n",
    "    def move(self, opponent_history):\n",
    "        if not opponent_history:\n",
    "            return 'C'\n",
    "        return opponent_history[-1]\n",
    "\n",
    "\n",
    "class Grudger(Strategy):\n",
    "    def __init__(self):\n",
    "        super().__init__(\"Grudger\")\n",
    "        self.grudge = False\n",
    "\n",
    "    def reset(self):\n",
    "        super().reset()\n",
    "        self.grudge = False\n",
    "\n",
    "    def move(self, opponent_history):\n",
    "        if 'D' in opponent_history:\n",
    "            self.grudge = True\n",
    "        return 'D' if self.grudge else 'C'\n",
    "\n",
    "\n",
    "class Detective(Strategy):\n",
    "    def __init__(self):\n",
    "        super().__init__(\"Detective\")\n",
    "        self.probe_moves = ['D', 'C', 'C', 'D']\n",
    "\n",
    "    def reset(self):\n",
    "        super().reset()\n",
    "        self.phase = \"probe\"\n",
    "\n",
    "    def move(self, opponent_history):\n",
    "        # Probe phase (first 4 moves)\n",
    "        if len(self.history) < 4:\n",
    "            return self.probe_moves[len(self.history)]\n",
    "        # After probing\n",
    "        if 'D' not in opponent_history:\n",
    "            # Opponent never retaliated, exploit them\n",
    "            return 'D'\n",
    "        else:\n",
    "            # Play like Copycat\n",
    "            return opponent_history[-1]\n",
    "\n",
    "\n",
    "class Copykitten(Strategy):\n",
    "    def __init__(self):\n",
    "        super().__init__(\"Copykitten\")\n",
    "\n",
    "    def move(self, opponent_history):\n",
    "        if len(opponent_history) < 2:\n",
    "            return 'C'\n",
    "        # Forgive one accidental defection\n",
    "        if opponent_history[-1] == 'D' and opponent_history[-2] == 'D':\n",
    "            return 'D'\n",
    "        return 'C'"
   ]
  },
  {
   "cell_type": "code",
   "execution_count": 6,
   "id": "87fd0cec",
   "metadata": {
    "execution": {
     "iopub.execute_input": "2025-10-16T04:41:12.076931Z",
     "iopub.status.busy": "2025-10-16T04:41:12.076592Z",
     "iopub.status.idle": "2025-10-16T04:41:12.085265Z",
     "shell.execute_reply": "2025-10-16T04:41:12.084533Z"
    },
    "papermill": {
     "duration": 0.01364,
     "end_time": "2025-10-16T04:41:12.086629",
     "exception": false,
     "start_time": "2025-10-16T04:41:12.072989",
     "status": "completed"
    },
    "tags": []
   },
   "outputs": [],
   "source": [
    "# -----------------------------\n",
    "# SIMULATION FUNCTION\n",
    "# -----------------------------\n",
    "def play_round(p1, p2, noise=0.0):\n",
    "    \"\"\"Play one round between two strategies (with optional noise).\"\"\"\n",
    "    m1 = p1.move(p2.history)\n",
    "    m2 = p2.move(p1.history)\n",
    "\n",
    "    # Random noise: flip move with probability noise\n",
    "    if random.random() < noise:\n",
    "        m1 = 'D' if m1 == 'C' else 'C'\n",
    "    if random.random() < noise:\n",
    "        m2 = 'D' if m2 == 'C' else 'C'\n",
    "\n",
    "    p1.history.append(m1)\n",
    "    p2.history.append(m2)\n",
    "\n",
    "    pay1, pay2 = PAYOFFS[(m1, m2)]\n",
    "    return pay1, pay2\n",
    "\n",
    "\n",
    "def play_match(p1, p2, rounds=50, noise=0.0):\n",
    "    \"\"\"Play repeated rounds and return average payoffs.\"\"\"\n",
    "    p1.reset()\n",
    "    p2.reset()\n",
    "    total1 = total2 = 0\n",
    "\n",
    "    for _ in range(rounds):\n",
    "        pay1, pay2 = play_round(p1, p2, noise)\n",
    "        total1 += pay1\n",
    "        total2 += pay2\n",
    "\n",
    "    avg1 = total1 / rounds\n",
    "    avg2 = total2 / rounds\n",
    "    return avg1, avg2\n",
    "\n",
    "\n",
    "# -----------------------------\n",
    "# RUN A TOURNAMENT\n",
    "# -----------------------------\n",
    "def tournament(strategies, rounds=50, noise=0.0):\n",
    "    results = pd.DataFrame(\n",
    "        0.0, index=[s.name for s in strategies], columns=[s.name for s in strategies]\n",
    "    )\n",
    "    for s1, s2 in itertools.product(strategies, repeat=2):\n",
    "        avg1, avg2 = play_match(s1, s2, rounds, noise)\n",
    "        results.loc[s1.name, s2.name] = avg1\n",
    "    return results\n"
   ]
  },
  {
   "cell_type": "code",
   "execution_count": null,
   "id": "7fad90ab",
   "metadata": {
    "papermill": {
     "duration": 0.002261,
     "end_time": "2025-10-16T04:41:12.091511",
     "exception": false,
     "start_time": "2025-10-16T04:41:12.089250",
     "status": "completed"
    },
    "tags": []
   },
   "outputs": [],
   "source": []
  },
  {
   "cell_type": "code",
   "execution_count": 7,
   "id": "83fe0304",
   "metadata": {
    "execution": {
     "iopub.execute_input": "2025-10-16T04:41:12.097326Z",
     "iopub.status.busy": "2025-10-16T04:41:12.097029Z",
     "iopub.status.idle": "2025-10-16T04:41:12.123650Z",
     "shell.execute_reply": "2025-10-16T04:41:12.122679Z"
    },
    "papermill": {
     "duration": 0.031496,
     "end_time": "2025-10-16T04:41:12.125348",
     "exception": false,
     "start_time": "2025-10-16T04:41:12.093852",
     "status": "completed"
    },
    "tags": []
   },
   "outputs": [],
   "source": [
    "# -----------------------------\n",
    "# MAIN\n",
    "# -----------------------------\n",
    "if __name__ == \"__main__\":\n",
    "    strategies = [\n",
    "        Cooperator(),\n",
    "        Cheater(),\n",
    "        Copycat(),\n",
    "        Grudger(),\n",
    "        Detective(),\n",
    "        Copykitten()\n",
    "    ]\n",
    "\n",
    "    results = tournament(strategies, rounds=500, noise=0.05)\n",
    "    # print(\"\\nAverage Payoff Matrix (rows = player, columns = opponent):\\n\")\n",
    "    # print(results.round(2))"
   ]
  },
  {
   "cell_type": "code",
   "execution_count": 8,
   "id": "15ef2f98",
   "metadata": {
    "execution": {
     "iopub.execute_input": "2025-10-16T04:41:12.131660Z",
     "iopub.status.busy": "2025-10-16T04:41:12.131351Z",
     "iopub.status.idle": "2025-10-16T04:41:12.157996Z",
     "shell.execute_reply": "2025-10-16T04:41:12.157005Z"
    },
    "papermill": {
     "duration": 0.031476,
     "end_time": "2025-10-16T04:41:12.159467",
     "exception": false,
     "start_time": "2025-10-16T04:41:12.127991",
     "status": "completed"
    },
    "tags": []
   },
   "outputs": [
    {
     "data": {
      "text/html": [
       "<div>\n",
       "<style scoped>\n",
       "    .dataframe tbody tr th:only-of-type {\n",
       "        vertical-align: middle;\n",
       "    }\n",
       "\n",
       "    .dataframe tbody tr th {\n",
       "        vertical-align: top;\n",
       "    }\n",
       "\n",
       "    .dataframe thead th {\n",
       "        text-align: right;\n",
       "    }\n",
       "</style>\n",
       "<table border=\"1\" class=\"dataframe\">\n",
       "  <thead>\n",
       "    <tr style=\"text-align: right;\">\n",
       "      <th></th>\n",
       "      <th>Cooperator</th>\n",
       "      <th>Cheater</th>\n",
       "      <th>Copycat</th>\n",
       "      <th>Grudger</th>\n",
       "      <th>Detective</th>\n",
       "      <th>Copykitten</th>\n",
       "    </tr>\n",
       "  </thead>\n",
       "  <tbody>\n",
       "    <tr>\n",
       "      <th>Cooperator</th>\n",
       "      <td>2.97</td>\n",
       "      <td>0.22</td>\n",
       "      <td>2.82</td>\n",
       "      <td>0.38</td>\n",
       "      <td>2.80</td>\n",
       "      <td>2.93</td>\n",
       "    </tr>\n",
       "    <tr>\n",
       "      <th>Cheater</th>\n",
       "      <td>4.68</td>\n",
       "      <td>1.05</td>\n",
       "      <td>1.32</td>\n",
       "      <td>1.15</td>\n",
       "      <td>1.33</td>\n",
       "      <td>1.40</td>\n",
       "    </tr>\n",
       "    <tr>\n",
       "      <th>Copycat</th>\n",
       "      <td>3.03</td>\n",
       "      <td>1.05</td>\n",
       "      <td>2.06</td>\n",
       "      <td>1.28</td>\n",
       "      <td>2.03</td>\n",
       "      <td>2.95</td>\n",
       "    </tr>\n",
       "    <tr>\n",
       "      <th>Grudger</th>\n",
       "      <td>4.71</td>\n",
       "      <td>1.14</td>\n",
       "      <td>1.36</td>\n",
       "      <td>1.16</td>\n",
       "      <td>1.28</td>\n",
       "      <td>1.58</td>\n",
       "    </tr>\n",
       "    <tr>\n",
       "      <th>Detective</th>\n",
       "      <td>3.04</td>\n",
       "      <td>1.11</td>\n",
       "      <td>1.92</td>\n",
       "      <td>1.10</td>\n",
       "      <td>2.22</td>\n",
       "      <td>2.98</td>\n",
       "    </tr>\n",
       "    <tr>\n",
       "      <th>Copykitten</th>\n",
       "      <td>2.97</td>\n",
       "      <td>1.05</td>\n",
       "      <td>2.88</td>\n",
       "      <td>1.15</td>\n",
       "      <td>2.58</td>\n",
       "      <td>2.93</td>\n",
       "    </tr>\n",
       "  </tbody>\n",
       "</table>\n",
       "</div>"
      ],
      "text/plain": [
       "            Cooperator  Cheater  Copycat  Grudger  Detective  Copykitten\n",
       "Cooperator        2.97     0.22     2.82     0.38       2.80        2.93\n",
       "Cheater           4.68     1.05     1.32     1.15       1.33        1.40\n",
       "Copycat           3.03     1.05     2.06     1.28       2.03        2.95\n",
       "Grudger           4.71     1.14     1.36     1.16       1.28        1.58\n",
       "Detective         3.04     1.11     1.92     1.10       2.22        2.98\n",
       "Copykitten        2.97     1.05     2.88     1.15       2.58        2.93"
      ]
     },
     "execution_count": 8,
     "metadata": {},
     "output_type": "execute_result"
    }
   ],
   "source": [
    "results.apply(lambda x: x.round(2))"
   ]
  },
  {
   "cell_type": "code",
   "execution_count": null,
   "id": "e9f6005a",
   "metadata": {
    "papermill": {
     "duration": 0.002566,
     "end_time": "2025-10-16T04:41:12.164799",
     "exception": false,
     "start_time": "2025-10-16T04:41:12.162233",
     "status": "completed"
    },
    "tags": []
   },
   "outputs": [],
   "source": []
  }
 ],
 "metadata": {
  "kaggle": {
   "accelerator": "none",
   "dataSources": [],
   "dockerImageVersionId": 31153,
   "isGpuEnabled": false,
   "isInternetEnabled": true,
   "language": "python",
   "sourceType": "notebook"
  },
  "kernelspec": {
   "display_name": "Python 3",
   "language": "python",
   "name": "python3"
  },
  "language_info": {
   "codemirror_mode": {
    "name": "ipython",
    "version": 3
   },
   "file_extension": ".py",
   "mimetype": "text/x-python",
   "name": "python",
   "nbconvert_exporter": "python",
   "pygments_lexer": "ipython3",
   "version": "3.11.13"
  },
  "papermill": {
   "default_parameters": {},
   "duration": 7.205961,
   "end_time": "2025-10-16T04:41:12.687110",
   "environment_variables": {},
   "exception": null,
   "input_path": "__notebook__.ipynb",
   "output_path": "__notebook__.ipynb",
   "parameters": {},
   "start_time": "2025-10-16T04:41:05.481149",
   "version": "2.6.0"
  }
 },
 "nbformat": 4,
 "nbformat_minor": 5
}
